{
 "cells": [
  {
   "cell_type": "code",
   "execution_count": 1,
   "metadata": {},
   "outputs": [],
   "source": [
    "import warnings\n",
    "warnings.filterwarnings('ignore')"
   ]
  },
  {
   "cell_type": "code",
   "execution_count": 2,
   "metadata": {},
   "outputs": [],
   "source": [
    "import db\n",
    "import sqlalchemy\n",
    "import random\n",
    "from sklearn.metrics.pairwise import cosine_similarity\n",
    "import numpy as np"
   ]
  },
  {
   "cell_type": "code",
   "execution_count": 3,
   "metadata": {},
   "outputs": [],
   "source": [
    "engine = sqlalchemy.create_engine(\"sqlite:///books.db\")\n",
    "db.Base.metadata.create_all(engine)\n",
    "Session = sqlalchemy.orm.sessionmaker(bind=engine)\n",
    "session = Session()"
   ]
  },
  {
   "cell_type": "code",
   "execution_count": 4,
   "metadata": {},
   "outputs": [],
   "source": [
    "similarity_function = lambda x, y: 1 - abs(x - y)\n",
    "similarity_function = cosine_similarity\n",
    "similarity_function = lambda x, y: np.dot(x, np.transpose(y))"
   ]
  },
  {
   "cell_type": "markdown",
   "metadata": {},
   "source": [
    "# Recommendations"
   ]
  },
  {
   "cell_type": "code",
   "execution_count": 7,
   "metadata": {},
   "outputs": [],
   "source": [
    "def compute_score(scoring_book, rated_book, rating, cosine_weight = 0.5, cluster_weight = 0.5):\n",
    "    sb = session.query(db.Book).filter(db.Book.id == scoring_book).first()\n",
    "    rb = session.query(db.Book).filter(db.Book.id == scoring_book).first()\n",
    "    score = rating * (cosine_weight * similarity_function(sb, rb))\n",
    "    return score"
   ]
  },
  {
   "cell_type": "code",
   "execution_count": 8,
   "metadata": {},
   "outputs": [
    {
     "ename": "NoForeignKeysError",
     "evalue": "Could not determine join condition between parent/child tables on relationship Book.summary - there are no foreign keys linking these tables.  Ensure that referencing columns are associated with a ForeignKey or ForeignKeyConstraint, or specify a 'primaryjoin' expression.",
     "output_type": "error",
     "traceback": [
      "\u001b[0;31m---------------------------------------------------------------------------\u001b[0m",
      "\u001b[0;31mNoForeignKeysError\u001b[0m                        Traceback (most recent call last)",
      "File \u001b[0;32m/opt/anaconda3/lib/python3.12/site-packages/sqlalchemy/orm/relationships.py:2423\u001b[0m, in \u001b[0;36mJoinCondition._determine_joins\u001b[0;34m(self)\u001b[0m\n\u001b[1;32m   2422\u001b[0m \u001b[38;5;28;01mif\u001b[39;00m \u001b[38;5;28mself\u001b[39m\u001b[38;5;241m.\u001b[39mprimaryjoin_initial \u001b[38;5;129;01mis\u001b[39;00m \u001b[38;5;28;01mNone\u001b[39;00m:\n\u001b[0;32m-> 2423\u001b[0m     \u001b[38;5;28mself\u001b[39m\u001b[38;5;241m.\u001b[39mprimaryjoin \u001b[38;5;241m=\u001b[39m join_condition(\n\u001b[1;32m   2424\u001b[0m         \u001b[38;5;28mself\u001b[39m\u001b[38;5;241m.\u001b[39mparent_persist_selectable,\n\u001b[1;32m   2425\u001b[0m         \u001b[38;5;28mself\u001b[39m\u001b[38;5;241m.\u001b[39mchild_persist_selectable,\n\u001b[1;32m   2426\u001b[0m         a_subset\u001b[38;5;241m=\u001b[39m\u001b[38;5;28mself\u001b[39m\u001b[38;5;241m.\u001b[39mparent_local_selectable,\n\u001b[1;32m   2427\u001b[0m         consider_as_foreign_keys\u001b[38;5;241m=\u001b[39mconsider_as_foreign_keys,\n\u001b[1;32m   2428\u001b[0m     )\n\u001b[1;32m   2429\u001b[0m \u001b[38;5;28;01melse\u001b[39;00m:\n",
      "File \u001b[0;32m/opt/anaconda3/lib/python3.12/site-packages/sqlalchemy/sql/util.py:123\u001b[0m, in \u001b[0;36mjoin_condition\u001b[0;34m(a, b, a_subset, consider_as_foreign_keys)\u001b[0m\n\u001b[1;32m    101\u001b[0m \u001b[38;5;250m\u001b[39m\u001b[38;5;124;03m\"\"\"Create a join condition between two tables or selectables.\u001b[39;00m\n\u001b[1;32m    102\u001b[0m \n\u001b[1;32m    103\u001b[0m \u001b[38;5;124;03me.g.::\u001b[39;00m\n\u001b[0;32m   (...)\u001b[0m\n\u001b[1;32m    121\u001b[0m \n\u001b[1;32m    122\u001b[0m \u001b[38;5;124;03m\"\"\"\u001b[39;00m\n\u001b[0;32m--> 123\u001b[0m \u001b[38;5;28;01mreturn\u001b[39;00m Join\u001b[38;5;241m.\u001b[39m_join_condition(\n\u001b[1;32m    124\u001b[0m     a,\n\u001b[1;32m    125\u001b[0m     b,\n\u001b[1;32m    126\u001b[0m     a_subset\u001b[38;5;241m=\u001b[39ma_subset,\n\u001b[1;32m    127\u001b[0m     consider_as_foreign_keys\u001b[38;5;241m=\u001b[39mconsider_as_foreign_keys,\n\u001b[1;32m    128\u001b[0m )\n",
      "File \u001b[0;32m/opt/anaconda3/lib/python3.12/site-packages/sqlalchemy/sql/selectable.py:1380\u001b[0m, in \u001b[0;36mJoin._join_condition\u001b[0;34m(cls, a, b, a_subset, consider_as_foreign_keys)\u001b[0m\n\u001b[1;32m   1379\u001b[0m         hint \u001b[38;5;241m=\u001b[39m \u001b[38;5;124m\"\u001b[39m\u001b[38;5;124m\"\u001b[39m\n\u001b[0;32m-> 1380\u001b[0m     \u001b[38;5;28;01mraise\u001b[39;00m exc\u001b[38;5;241m.\u001b[39mNoForeignKeysError(\n\u001b[1;32m   1381\u001b[0m         \u001b[38;5;124m\"\u001b[39m\u001b[38;5;124mCan\u001b[39m\u001b[38;5;124m'\u001b[39m\u001b[38;5;124mt find any foreign key relationships \u001b[39m\u001b[38;5;124m\"\u001b[39m\n\u001b[1;32m   1382\u001b[0m         \u001b[38;5;124m\"\u001b[39m\u001b[38;5;124mbetween \u001b[39m\u001b[38;5;124m'\u001b[39m\u001b[38;5;132;01m%s\u001b[39;00m\u001b[38;5;124m'\u001b[39m\u001b[38;5;124m and \u001b[39m\u001b[38;5;124m'\u001b[39m\u001b[38;5;132;01m%s\u001b[39;00m\u001b[38;5;124m'\u001b[39m\u001b[38;5;124m.\u001b[39m\u001b[38;5;132;01m%s\u001b[39;00m\u001b[38;5;124m\"\u001b[39m\n\u001b[1;32m   1383\u001b[0m         \u001b[38;5;241m%\u001b[39m (a\u001b[38;5;241m.\u001b[39mdescription, b\u001b[38;5;241m.\u001b[39mdescription, hint)\n\u001b[1;32m   1384\u001b[0m     )\n\u001b[1;32m   1386\u001b[0m crit \u001b[38;5;241m=\u001b[39m [(x \u001b[38;5;241m==\u001b[39m y) \u001b[38;5;28;01mfor\u001b[39;00m x, y \u001b[38;5;129;01min\u001b[39;00m \u001b[38;5;28mlist\u001b[39m(constraints\u001b[38;5;241m.\u001b[39mvalues())[\u001b[38;5;241m0\u001b[39m]]\n",
      "\u001b[0;31mNoForeignKeysError\u001b[0m: Can't find any foreign key relationships between 'books' and 'summaries'.",
      "\nThe above exception was the direct cause of the following exception:\n",
      "\u001b[0;31mNoForeignKeysError\u001b[0m                        Traceback (most recent call last)",
      "Cell \u001b[0;32mIn[8], line 1\u001b[0m\n\u001b[0;32m----> 1\u001b[0m compute_score(\u001b[38;5;241m24\u001b[39m, \u001b[38;5;241m20\u001b[39m, \u001b[38;5;241m1\u001b[39m)\n",
      "Cell \u001b[0;32mIn[7], line 2\u001b[0m, in \u001b[0;36mcompute_score\u001b[0;34m(scoring_book, rated_book, rating, cosine_weight, cluster_weight)\u001b[0m\n\u001b[1;32m      1\u001b[0m \u001b[38;5;28;01mdef\u001b[39;00m \u001b[38;5;21mcompute_score\u001b[39m(scoring_book, rated_book, rating, cosine_weight \u001b[38;5;241m=\u001b[39m \u001b[38;5;241m0.5\u001b[39m, cluster_weight \u001b[38;5;241m=\u001b[39m \u001b[38;5;241m0.5\u001b[39m):\n\u001b[0;32m----> 2\u001b[0m     sb \u001b[38;5;241m=\u001b[39m session\u001b[38;5;241m.\u001b[39mquery(db\u001b[38;5;241m.\u001b[39mBook)\u001b[38;5;241m.\u001b[39mfilter(db\u001b[38;5;241m.\u001b[39mBook\u001b[38;5;241m.\u001b[39mid \u001b[38;5;241m==\u001b[39m scoring_book)\u001b[38;5;241m.\u001b[39mfirst()\n\u001b[1;32m      3\u001b[0m     rb \u001b[38;5;241m=\u001b[39m session\u001b[38;5;241m.\u001b[39mquery(db\u001b[38;5;241m.\u001b[39mBook)\u001b[38;5;241m.\u001b[39mfilter(db\u001b[38;5;241m.\u001b[39mBook\u001b[38;5;241m.\u001b[39mid \u001b[38;5;241m==\u001b[39m scoring_book)\u001b[38;5;241m.\u001b[39mfirst()\n\u001b[1;32m      4\u001b[0m     score \u001b[38;5;241m=\u001b[39m rating \u001b[38;5;241m*\u001b[39m (cosine_weight \u001b[38;5;241m*\u001b[39m similarity_function(sb, rb))\n",
      "File \u001b[0;32m/opt/anaconda3/lib/python3.12/site-packages/sqlalchemy/orm/session.py:2952\u001b[0m, in \u001b[0;36mSession.query\u001b[0;34m(self, *entities, **kwargs)\u001b[0m\n\u001b[1;32m   2932\u001b[0m \u001b[38;5;28;01mdef\u001b[39;00m \u001b[38;5;21mquery\u001b[39m(\n\u001b[1;32m   2933\u001b[0m     \u001b[38;5;28mself\u001b[39m, \u001b[38;5;241m*\u001b[39mentities: _ColumnsClauseArgument[Any], \u001b[38;5;241m*\u001b[39m\u001b[38;5;241m*\u001b[39mkwargs: Any\n\u001b[1;32m   2934\u001b[0m ) \u001b[38;5;241m-\u001b[39m\u001b[38;5;241m>\u001b[39m Query[Any]:\n\u001b[1;32m   2935\u001b[0m \u001b[38;5;250m    \u001b[39m\u001b[38;5;124;03m\"\"\"Return a new :class:`_query.Query` object corresponding to this\u001b[39;00m\n\u001b[1;32m   2936\u001b[0m \u001b[38;5;124;03m    :class:`_orm.Session`.\u001b[39;00m\n\u001b[1;32m   2937\u001b[0m \n\u001b[0;32m   (...)\u001b[0m\n\u001b[1;32m   2949\u001b[0m \n\u001b[1;32m   2950\u001b[0m \u001b[38;5;124;03m    \"\"\"\u001b[39;00m\n\u001b[0;32m-> 2952\u001b[0m     \u001b[38;5;28;01mreturn\u001b[39;00m \u001b[38;5;28mself\u001b[39m\u001b[38;5;241m.\u001b[39m_query_cls(entities, \u001b[38;5;28mself\u001b[39m, \u001b[38;5;241m*\u001b[39m\u001b[38;5;241m*\u001b[39mkwargs)\n",
      "File \u001b[0;32m/opt/anaconda3/lib/python3.12/site-packages/sqlalchemy/orm/query.py:275\u001b[0m, in \u001b[0;36mQuery.__init__\u001b[0;34m(self, entities, session)\u001b[0m\n\u001b[1;32m    269\u001b[0m \u001b[38;5;66;03m# session is usually present.  There's one case in subqueryloader\u001b[39;00m\n\u001b[1;32m    270\u001b[0m \u001b[38;5;66;03m# where it stores a Query without a Session and also there are tests\u001b[39;00m\n\u001b[1;32m    271\u001b[0m \u001b[38;5;66;03m# for the query(Entity).with_session(session) API which is likely in\u001b[39;00m\n\u001b[1;32m    272\u001b[0m \u001b[38;5;66;03m# some old recipes, however these are legacy as select() can now be\u001b[39;00m\n\u001b[1;32m    273\u001b[0m \u001b[38;5;66;03m# used.\u001b[39;00m\n\u001b[1;32m    274\u001b[0m \u001b[38;5;28mself\u001b[39m\u001b[38;5;241m.\u001b[39msession \u001b[38;5;241m=\u001b[39m session  \u001b[38;5;66;03m# type: ignore\u001b[39;00m\n\u001b[0;32m--> 275\u001b[0m \u001b[38;5;28mself\u001b[39m\u001b[38;5;241m.\u001b[39m_set_entities(entities)\n",
      "File \u001b[0;32m/opt/anaconda3/lib/python3.12/site-packages/sqlalchemy/orm/query.py:288\u001b[0m, in \u001b[0;36mQuery._set_entities\u001b[0;34m(self, entities)\u001b[0m\n\u001b[1;32m    281\u001b[0m \u001b[38;5;28;01mdef\u001b[39;00m \u001b[38;5;21m_set_entities\u001b[39m(\n\u001b[1;32m    282\u001b[0m     \u001b[38;5;28mself\u001b[39m,\n\u001b[1;32m    283\u001b[0m     entities: Union[\n\u001b[1;32m    284\u001b[0m         _ColumnsClauseArgument[Any], Iterable[_ColumnsClauseArgument[Any]]\n\u001b[1;32m    285\u001b[0m     ],\n\u001b[1;32m    286\u001b[0m ) \u001b[38;5;241m-\u001b[39m\u001b[38;5;241m>\u001b[39m \u001b[38;5;28;01mNone\u001b[39;00m:\n\u001b[1;32m    287\u001b[0m     \u001b[38;5;28mself\u001b[39m\u001b[38;5;241m.\u001b[39m_raw_columns \u001b[38;5;241m=\u001b[39m [\n\u001b[0;32m--> 288\u001b[0m         coercions\u001b[38;5;241m.\u001b[39mexpect(\n\u001b[1;32m    289\u001b[0m             roles\u001b[38;5;241m.\u001b[39mColumnsClauseRole,\n\u001b[1;32m    290\u001b[0m             ent,\n\u001b[1;32m    291\u001b[0m             apply_propagate_attrs\u001b[38;5;241m=\u001b[39m\u001b[38;5;28mself\u001b[39m,\n\u001b[1;32m    292\u001b[0m             post_inspect\u001b[38;5;241m=\u001b[39m\u001b[38;5;28;01mTrue\u001b[39;00m,\n\u001b[1;32m    293\u001b[0m         )\n\u001b[1;32m    294\u001b[0m         \u001b[38;5;28;01mfor\u001b[39;00m ent \u001b[38;5;129;01min\u001b[39;00m util\u001b[38;5;241m.\u001b[39mto_list(entities)\n\u001b[1;32m    295\u001b[0m     ]\n",
      "File \u001b[0;32m/opt/anaconda3/lib/python3.12/site-packages/sqlalchemy/sql/coercions.py:389\u001b[0m, in \u001b[0;36mexpect\u001b[0;34m(role, element, apply_propagate_attrs, argname, post_inspect, disable_inspection, **kw)\u001b[0m\n\u001b[1;32m    387\u001b[0m \u001b[38;5;28;01mif\u001b[39;00m insp \u001b[38;5;129;01mis\u001b[39;00m \u001b[38;5;129;01mnot\u001b[39;00m \u001b[38;5;28;01mNone\u001b[39;00m:\n\u001b[1;32m    388\u001b[0m     \u001b[38;5;28;01mif\u001b[39;00m post_inspect:\n\u001b[0;32m--> 389\u001b[0m         insp\u001b[38;5;241m.\u001b[39m_post_inspect\n\u001b[1;32m    390\u001b[0m     \u001b[38;5;28;01mtry\u001b[39;00m:\n\u001b[1;32m    391\u001b[0m         resolved \u001b[38;5;241m=\u001b[39m insp\u001b[38;5;241m.\u001b[39m__clause_element__()\n",
      "File \u001b[0;32m/opt/anaconda3/lib/python3.12/site-packages/sqlalchemy/util/langhelpers.py:1253\u001b[0m, in \u001b[0;36mHasMemoized.memoized_attribute.__get__\u001b[0;34m(self, obj, cls)\u001b[0m\n\u001b[1;32m   1251\u001b[0m \u001b[38;5;28;01mif\u001b[39;00m obj \u001b[38;5;129;01mis\u001b[39;00m \u001b[38;5;28;01mNone\u001b[39;00m:\n\u001b[1;32m   1252\u001b[0m     \u001b[38;5;28;01mreturn\u001b[39;00m \u001b[38;5;28mself\u001b[39m\n\u001b[0;32m-> 1253\u001b[0m obj\u001b[38;5;241m.\u001b[39m\u001b[38;5;18m__dict__\u001b[39m[\u001b[38;5;28mself\u001b[39m\u001b[38;5;241m.\u001b[39m\u001b[38;5;18m__name__\u001b[39m] \u001b[38;5;241m=\u001b[39m result \u001b[38;5;241m=\u001b[39m \u001b[38;5;28mself\u001b[39m\u001b[38;5;241m.\u001b[39mfget(obj)\n\u001b[1;32m   1254\u001b[0m obj\u001b[38;5;241m.\u001b[39m_memoized_keys \u001b[38;5;241m|\u001b[39m\u001b[38;5;241m=\u001b[39m {\u001b[38;5;28mself\u001b[39m\u001b[38;5;241m.\u001b[39m\u001b[38;5;18m__name__\u001b[39m}\n\u001b[1;32m   1255\u001b[0m \u001b[38;5;28;01mreturn\u001b[39;00m result\n",
      "File \u001b[0;32m/opt/anaconda3/lib/python3.12/site-packages/sqlalchemy/orm/mapper.py:2711\u001b[0m, in \u001b[0;36mMapper._post_inspect\u001b[0;34m(self)\u001b[0m\n\u001b[1;32m   2700\u001b[0m \u001b[38;5;129m@HasMemoized\u001b[39m\u001b[38;5;241m.\u001b[39mmemoized_attribute\n\u001b[1;32m   2701\u001b[0m \u001b[38;5;28;01mdef\u001b[39;00m \u001b[38;5;21m_post_inspect\u001b[39m(\u001b[38;5;28mself\u001b[39m):\n\u001b[1;32m   2702\u001b[0m \u001b[38;5;250m    \u001b[39m\u001b[38;5;124;03m\"\"\"This hook is invoked by attribute inspection.\u001b[39;00m\n\u001b[1;32m   2703\u001b[0m \n\u001b[1;32m   2704\u001b[0m \u001b[38;5;124;03m    E.g. when Query calls:\u001b[39;00m\n\u001b[0;32m   (...)\u001b[0m\n\u001b[1;32m   2709\u001b[0m \n\u001b[1;32m   2710\u001b[0m \u001b[38;5;124;03m    \"\"\"\u001b[39;00m\n\u001b[0;32m-> 2711\u001b[0m     \u001b[38;5;28mself\u001b[39m\u001b[38;5;241m.\u001b[39m_check_configure()\n",
      "File \u001b[0;32m/opt/anaconda3/lib/python3.12/site-packages/sqlalchemy/orm/mapper.py:2388\u001b[0m, in \u001b[0;36mMapper._check_configure\u001b[0;34m(self)\u001b[0m\n\u001b[1;32m   2380\u001b[0m \u001b[38;5;129m@util\u001b[39m\u001b[38;5;241m.\u001b[39mlanghelpers\u001b[38;5;241m.\u001b[39mtag_method_for_warnings(\n\u001b[1;32m   2381\u001b[0m     \u001b[38;5;124m\"\u001b[39m\u001b[38;5;124mThis warning originated from the `configure_mappers()` process, \u001b[39m\u001b[38;5;124m\"\u001b[39m\n\u001b[1;32m   2382\u001b[0m     \u001b[38;5;124m\"\u001b[39m\u001b[38;5;124mwhich was invoked automatically in response to a user-initiated \u001b[39m\u001b[38;5;124m\"\u001b[39m\n\u001b[0;32m   (...)\u001b[0m\n\u001b[1;32m   2385\u001b[0m )\n\u001b[1;32m   2386\u001b[0m \u001b[38;5;28;01mdef\u001b[39;00m \u001b[38;5;21m_check_configure\u001b[39m(\u001b[38;5;28mself\u001b[39m) \u001b[38;5;241m-\u001b[39m\u001b[38;5;241m>\u001b[39m \u001b[38;5;28;01mNone\u001b[39;00m:\n\u001b[1;32m   2387\u001b[0m     \u001b[38;5;28;01mif\u001b[39;00m \u001b[38;5;28mself\u001b[39m\u001b[38;5;241m.\u001b[39mregistry\u001b[38;5;241m.\u001b[39m_new_mappers:\n\u001b[0;32m-> 2388\u001b[0m         _configure_registries({\u001b[38;5;28mself\u001b[39m\u001b[38;5;241m.\u001b[39mregistry}, cascade\u001b[38;5;241m=\u001b[39m\u001b[38;5;28;01mTrue\u001b[39;00m)\n",
      "File \u001b[0;32m/opt/anaconda3/lib/python3.12/site-packages/sqlalchemy/orm/mapper.py:4204\u001b[0m, in \u001b[0;36m_configure_registries\u001b[0;34m(registries, cascade)\u001b[0m\n\u001b[1;32m   4198\u001b[0m     Mapper\u001b[38;5;241m.\u001b[39mdispatch\u001b[38;5;241m.\u001b[39m_for_class(Mapper)\u001b[38;5;241m.\u001b[39mbefore_configured()  \u001b[38;5;66;03m# type: ignore # noqa: E501\u001b[39;00m\n\u001b[1;32m   4199\u001b[0m     \u001b[38;5;66;03m# initialize properties on all mappers\u001b[39;00m\n\u001b[1;32m   4200\u001b[0m     \u001b[38;5;66;03m# note that _mapper_registry is unordered, which\u001b[39;00m\n\u001b[1;32m   4201\u001b[0m     \u001b[38;5;66;03m# may randomly conceal/reveal issues related to\u001b[39;00m\n\u001b[1;32m   4202\u001b[0m     \u001b[38;5;66;03m# the order of mapper compilation\u001b[39;00m\n\u001b[0;32m-> 4204\u001b[0m     _do_configure_registries(registries, cascade)\n\u001b[1;32m   4205\u001b[0m \u001b[38;5;28;01mfinally\u001b[39;00m:\n\u001b[1;32m   4206\u001b[0m     _already_compiling \u001b[38;5;241m=\u001b[39m \u001b[38;5;28;01mFalse\u001b[39;00m\n",
      "File \u001b[0;32m/opt/anaconda3/lib/python3.12/site-packages/sqlalchemy/orm/mapper.py:4245\u001b[0m, in \u001b[0;36m_do_configure_registries\u001b[0;34m(registries, cascade)\u001b[0m\n\u001b[1;32m   4243\u001b[0m \u001b[38;5;28;01mif\u001b[39;00m \u001b[38;5;129;01mnot\u001b[39;00m mapper\u001b[38;5;241m.\u001b[39mconfigured:\n\u001b[1;32m   4244\u001b[0m     \u001b[38;5;28;01mtry\u001b[39;00m:\n\u001b[0;32m-> 4245\u001b[0m         mapper\u001b[38;5;241m.\u001b[39m_post_configure_properties()\n\u001b[1;32m   4246\u001b[0m         mapper\u001b[38;5;241m.\u001b[39m_expire_memoizations()\n\u001b[1;32m   4247\u001b[0m         mapper\u001b[38;5;241m.\u001b[39mdispatch\u001b[38;5;241m.\u001b[39mmapper_configured(mapper, mapper\u001b[38;5;241m.\u001b[39mclass_)\n",
      "File \u001b[0;32m/opt/anaconda3/lib/python3.12/site-packages/sqlalchemy/orm/mapper.py:2405\u001b[0m, in \u001b[0;36mMapper._post_configure_properties\u001b[0;34m(self)\u001b[0m\n\u001b[1;32m   2402\u001b[0m \u001b[38;5;28mself\u001b[39m\u001b[38;5;241m.\u001b[39m_log(\u001b[38;5;124m\"\u001b[39m\u001b[38;5;124minitialize prop \u001b[39m\u001b[38;5;132;01m%s\u001b[39;00m\u001b[38;5;124m\"\u001b[39m, key)\n\u001b[1;32m   2404\u001b[0m \u001b[38;5;28;01mif\u001b[39;00m prop\u001b[38;5;241m.\u001b[39mparent \u001b[38;5;129;01mis\u001b[39;00m \u001b[38;5;28mself\u001b[39m \u001b[38;5;129;01mand\u001b[39;00m \u001b[38;5;129;01mnot\u001b[39;00m prop\u001b[38;5;241m.\u001b[39m_configure_started:\n\u001b[0;32m-> 2405\u001b[0m     prop\u001b[38;5;241m.\u001b[39minit()\n\u001b[1;32m   2407\u001b[0m \u001b[38;5;28;01mif\u001b[39;00m prop\u001b[38;5;241m.\u001b[39m_configure_finished:\n\u001b[1;32m   2408\u001b[0m     prop\u001b[38;5;241m.\u001b[39mpost_instrument_class(\u001b[38;5;28mself\u001b[39m)\n",
      "File \u001b[0;32m/opt/anaconda3/lib/python3.12/site-packages/sqlalchemy/orm/interfaces.py:584\u001b[0m, in \u001b[0;36mMapperProperty.init\u001b[0;34m(self)\u001b[0m\n\u001b[1;32m    577\u001b[0m \u001b[38;5;250m\u001b[39m\u001b[38;5;124;03m\"\"\"Called after all mappers are created to assemble\u001b[39;00m\n\u001b[1;32m    578\u001b[0m \u001b[38;5;124;03mrelationships between mappers and perform other post-mapper-creation\u001b[39;00m\n\u001b[1;32m    579\u001b[0m \u001b[38;5;124;03minitialization steps.\u001b[39;00m\n\u001b[1;32m    580\u001b[0m \n\u001b[1;32m    581\u001b[0m \n\u001b[1;32m    582\u001b[0m \u001b[38;5;124;03m\"\"\"\u001b[39;00m\n\u001b[1;32m    583\u001b[0m \u001b[38;5;28mself\u001b[39m\u001b[38;5;241m.\u001b[39m_configure_started \u001b[38;5;241m=\u001b[39m \u001b[38;5;28;01mTrue\u001b[39;00m\n\u001b[0;32m--> 584\u001b[0m \u001b[38;5;28mself\u001b[39m\u001b[38;5;241m.\u001b[39mdo_init()\n\u001b[1;32m    585\u001b[0m \u001b[38;5;28mself\u001b[39m\u001b[38;5;241m.\u001b[39m_configure_finished \u001b[38;5;241m=\u001b[39m \u001b[38;5;28;01mTrue\u001b[39;00m\n",
      "File \u001b[0;32m/opt/anaconda3/lib/python3.12/site-packages/sqlalchemy/orm/relationships.py:1644\u001b[0m, in \u001b[0;36mRelationshipProperty.do_init\u001b[0;34m(self)\u001b[0m\n\u001b[1;32m   1642\u001b[0m \u001b[38;5;28mself\u001b[39m\u001b[38;5;241m.\u001b[39m_setup_entity()\n\u001b[1;32m   1643\u001b[0m \u001b[38;5;28mself\u001b[39m\u001b[38;5;241m.\u001b[39m_setup_registry_dependencies()\n\u001b[0;32m-> 1644\u001b[0m \u001b[38;5;28mself\u001b[39m\u001b[38;5;241m.\u001b[39m_setup_join_conditions()\n\u001b[1;32m   1645\u001b[0m \u001b[38;5;28mself\u001b[39m\u001b[38;5;241m.\u001b[39m_check_cascade_settings(\u001b[38;5;28mself\u001b[39m\u001b[38;5;241m.\u001b[39m_cascade)\n\u001b[1;32m   1646\u001b[0m \u001b[38;5;28mself\u001b[39m\u001b[38;5;241m.\u001b[39m_post_init()\n",
      "File \u001b[0;32m/opt/anaconda3/lib/python3.12/site-packages/sqlalchemy/orm/relationships.py:1884\u001b[0m, in \u001b[0;36mRelationshipProperty._setup_join_conditions\u001b[0;34m(self)\u001b[0m\n\u001b[1;32m   1883\u001b[0m \u001b[38;5;28;01mdef\u001b[39;00m \u001b[38;5;21m_setup_join_conditions\u001b[39m(\u001b[38;5;28mself\u001b[39m) \u001b[38;5;241m-\u001b[39m\u001b[38;5;241m>\u001b[39m \u001b[38;5;28;01mNone\u001b[39;00m:\n\u001b[0;32m-> 1884\u001b[0m     \u001b[38;5;28mself\u001b[39m\u001b[38;5;241m.\u001b[39m_join_condition \u001b[38;5;241m=\u001b[39m jc \u001b[38;5;241m=\u001b[39m JoinCondition(\n\u001b[1;32m   1885\u001b[0m         parent_persist_selectable\u001b[38;5;241m=\u001b[39m\u001b[38;5;28mself\u001b[39m\u001b[38;5;241m.\u001b[39mparent\u001b[38;5;241m.\u001b[39mpersist_selectable,\n\u001b[1;32m   1886\u001b[0m         child_persist_selectable\u001b[38;5;241m=\u001b[39m\u001b[38;5;28mself\u001b[39m\u001b[38;5;241m.\u001b[39mentity\u001b[38;5;241m.\u001b[39mpersist_selectable,\n\u001b[1;32m   1887\u001b[0m         parent_local_selectable\u001b[38;5;241m=\u001b[39m\u001b[38;5;28mself\u001b[39m\u001b[38;5;241m.\u001b[39mparent\u001b[38;5;241m.\u001b[39mlocal_table,\n\u001b[1;32m   1888\u001b[0m         child_local_selectable\u001b[38;5;241m=\u001b[39m\u001b[38;5;28mself\u001b[39m\u001b[38;5;241m.\u001b[39mentity\u001b[38;5;241m.\u001b[39mlocal_table,\n\u001b[1;32m   1889\u001b[0m         primaryjoin\u001b[38;5;241m=\u001b[39m\u001b[38;5;28mself\u001b[39m\u001b[38;5;241m.\u001b[39m_init_args\u001b[38;5;241m.\u001b[39mprimaryjoin\u001b[38;5;241m.\u001b[39mresolved,\n\u001b[1;32m   1890\u001b[0m         secondary\u001b[38;5;241m=\u001b[39m\u001b[38;5;28mself\u001b[39m\u001b[38;5;241m.\u001b[39m_init_args\u001b[38;5;241m.\u001b[39msecondary\u001b[38;5;241m.\u001b[39mresolved,\n\u001b[1;32m   1891\u001b[0m         secondaryjoin\u001b[38;5;241m=\u001b[39m\u001b[38;5;28mself\u001b[39m\u001b[38;5;241m.\u001b[39m_init_args\u001b[38;5;241m.\u001b[39msecondaryjoin\u001b[38;5;241m.\u001b[39mresolved,\n\u001b[1;32m   1892\u001b[0m         parent_equivalents\u001b[38;5;241m=\u001b[39m\u001b[38;5;28mself\u001b[39m\u001b[38;5;241m.\u001b[39mparent\u001b[38;5;241m.\u001b[39m_equivalent_columns,\n\u001b[1;32m   1893\u001b[0m         child_equivalents\u001b[38;5;241m=\u001b[39m\u001b[38;5;28mself\u001b[39m\u001b[38;5;241m.\u001b[39mmapper\u001b[38;5;241m.\u001b[39m_equivalent_columns,\n\u001b[1;32m   1894\u001b[0m         consider_as_foreign_keys\u001b[38;5;241m=\u001b[39m\u001b[38;5;28mself\u001b[39m\u001b[38;5;241m.\u001b[39m_user_defined_foreign_keys,\n\u001b[1;32m   1895\u001b[0m         local_remote_pairs\u001b[38;5;241m=\u001b[39m\u001b[38;5;28mself\u001b[39m\u001b[38;5;241m.\u001b[39mlocal_remote_pairs,\n\u001b[1;32m   1896\u001b[0m         remote_side\u001b[38;5;241m=\u001b[39m\u001b[38;5;28mself\u001b[39m\u001b[38;5;241m.\u001b[39mremote_side,\n\u001b[1;32m   1897\u001b[0m         self_referential\u001b[38;5;241m=\u001b[39m\u001b[38;5;28mself\u001b[39m\u001b[38;5;241m.\u001b[39m_is_self_referential,\n\u001b[1;32m   1898\u001b[0m         prop\u001b[38;5;241m=\u001b[39m\u001b[38;5;28mself\u001b[39m,\n\u001b[1;32m   1899\u001b[0m         support_sync\u001b[38;5;241m=\u001b[39m\u001b[38;5;129;01mnot\u001b[39;00m \u001b[38;5;28mself\u001b[39m\u001b[38;5;241m.\u001b[39mviewonly,\n\u001b[1;32m   1900\u001b[0m         can_be_synced_fn\u001b[38;5;241m=\u001b[39m\u001b[38;5;28mself\u001b[39m\u001b[38;5;241m.\u001b[39m_columns_are_mapped,\n\u001b[1;32m   1901\u001b[0m     )\n\u001b[1;32m   1902\u001b[0m     \u001b[38;5;28mself\u001b[39m\u001b[38;5;241m.\u001b[39mprimaryjoin \u001b[38;5;241m=\u001b[39m jc\u001b[38;5;241m.\u001b[39mprimaryjoin\n\u001b[1;32m   1903\u001b[0m     \u001b[38;5;28mself\u001b[39m\u001b[38;5;241m.\u001b[39msecondaryjoin \u001b[38;5;241m=\u001b[39m jc\u001b[38;5;241m.\u001b[39msecondaryjoin\n",
      "File \u001b[0;32m/opt/anaconda3/lib/python3.12/site-packages/sqlalchemy/orm/relationships.py:2310\u001b[0m, in \u001b[0;36mJoinCondition.__init__\u001b[0;34m(self, parent_persist_selectable, child_persist_selectable, parent_local_selectable, child_local_selectable, primaryjoin, secondary, secondaryjoin, parent_equivalents, child_equivalents, consider_as_foreign_keys, local_remote_pairs, remote_side, self_referential, prop, support_sync, can_be_synced_fn)\u001b[0m\n\u001b[1;32m   2307\u001b[0m \u001b[38;5;28mself\u001b[39m\u001b[38;5;241m.\u001b[39msupport_sync \u001b[38;5;241m=\u001b[39m support_sync\n\u001b[1;32m   2308\u001b[0m \u001b[38;5;28mself\u001b[39m\u001b[38;5;241m.\u001b[39mcan_be_synced_fn \u001b[38;5;241m=\u001b[39m can_be_synced_fn\n\u001b[0;32m-> 2310\u001b[0m \u001b[38;5;28mself\u001b[39m\u001b[38;5;241m.\u001b[39m_determine_joins()\n\u001b[1;32m   2311\u001b[0m \u001b[38;5;28;01massert\u001b[39;00m \u001b[38;5;28mself\u001b[39m\u001b[38;5;241m.\u001b[39mprimaryjoin \u001b[38;5;129;01mis\u001b[39;00m \u001b[38;5;129;01mnot\u001b[39;00m \u001b[38;5;28;01mNone\u001b[39;00m\n\u001b[1;32m   2313\u001b[0m \u001b[38;5;28mself\u001b[39m\u001b[38;5;241m.\u001b[39m_sanitize_joins()\n",
      "File \u001b[0;32m/opt/anaconda3/lib/python3.12/site-packages/sqlalchemy/orm/relationships.py:2444\u001b[0m, in \u001b[0;36mJoinCondition._determine_joins\u001b[0;34m(self)\u001b[0m\n\u001b[1;32m   2433\u001b[0m         \u001b[38;5;28;01mraise\u001b[39;00m sa_exc\u001b[38;5;241m.\u001b[39mNoForeignKeysError(\n\u001b[1;32m   2434\u001b[0m             \u001b[38;5;124m\"\u001b[39m\u001b[38;5;124mCould not determine join \u001b[39m\u001b[38;5;124m\"\u001b[39m\n\u001b[1;32m   2435\u001b[0m             \u001b[38;5;124m\"\u001b[39m\u001b[38;5;124mcondition between parent/child tables on \u001b[39m\u001b[38;5;124m\"\u001b[39m\n\u001b[0;32m   (...)\u001b[0m\n\u001b[1;32m   2441\u001b[0m             \u001b[38;5;124m\"\u001b[39m\u001b[38;5;124mexpressions.\u001b[39m\u001b[38;5;124m\"\u001b[39m \u001b[38;5;241m%\u001b[39m (\u001b[38;5;28mself\u001b[39m\u001b[38;5;241m.\u001b[39mprop, \u001b[38;5;28mself\u001b[39m\u001b[38;5;241m.\u001b[39msecondary)\n\u001b[1;32m   2442\u001b[0m         ) \u001b[38;5;28;01mfrom\u001b[39;00m \u001b[38;5;21;01mnfe\u001b[39;00m\n\u001b[1;32m   2443\u001b[0m     \u001b[38;5;28;01melse\u001b[39;00m:\n\u001b[0;32m-> 2444\u001b[0m         \u001b[38;5;28;01mraise\u001b[39;00m sa_exc\u001b[38;5;241m.\u001b[39mNoForeignKeysError(\n\u001b[1;32m   2445\u001b[0m             \u001b[38;5;124m\"\u001b[39m\u001b[38;5;124mCould not determine join \u001b[39m\u001b[38;5;124m\"\u001b[39m\n\u001b[1;32m   2446\u001b[0m             \u001b[38;5;124m\"\u001b[39m\u001b[38;5;124mcondition between parent/child tables on \u001b[39m\u001b[38;5;124m\"\u001b[39m\n\u001b[1;32m   2447\u001b[0m             \u001b[38;5;124m\"\u001b[39m\u001b[38;5;124mrelationship \u001b[39m\u001b[38;5;132;01m%s\u001b[39;00m\u001b[38;5;124m - there are no foreign keys \u001b[39m\u001b[38;5;124m\"\u001b[39m\n\u001b[1;32m   2448\u001b[0m             \u001b[38;5;124m\"\u001b[39m\u001b[38;5;124mlinking these tables.  \u001b[39m\u001b[38;5;124m\"\u001b[39m\n\u001b[1;32m   2449\u001b[0m             \u001b[38;5;124m\"\u001b[39m\u001b[38;5;124mEnsure that referencing columns are associated \u001b[39m\u001b[38;5;124m\"\u001b[39m\n\u001b[1;32m   2450\u001b[0m             \u001b[38;5;124m\"\u001b[39m\u001b[38;5;124mwith a ForeignKey or ForeignKeyConstraint, or \u001b[39m\u001b[38;5;124m\"\u001b[39m\n\u001b[1;32m   2451\u001b[0m             \u001b[38;5;124m\"\u001b[39m\u001b[38;5;124mspecify a \u001b[39m\u001b[38;5;124m'\u001b[39m\u001b[38;5;124mprimaryjoin\u001b[39m\u001b[38;5;124m'\u001b[39m\u001b[38;5;124m expression.\u001b[39m\u001b[38;5;124m\"\u001b[39m \u001b[38;5;241m%\u001b[39m \u001b[38;5;28mself\u001b[39m\u001b[38;5;241m.\u001b[39mprop\n\u001b[1;32m   2452\u001b[0m         ) \u001b[38;5;28;01mfrom\u001b[39;00m \u001b[38;5;21;01mnfe\u001b[39;00m\n\u001b[1;32m   2453\u001b[0m \u001b[38;5;28;01mexcept\u001b[39;00m sa_exc\u001b[38;5;241m.\u001b[39mAmbiguousForeignKeysError \u001b[38;5;28;01mas\u001b[39;00m afe:\n\u001b[1;32m   2454\u001b[0m     \u001b[38;5;28;01mif\u001b[39;00m \u001b[38;5;28mself\u001b[39m\u001b[38;5;241m.\u001b[39msecondary \u001b[38;5;129;01mis\u001b[39;00m \u001b[38;5;129;01mnot\u001b[39;00m \u001b[38;5;28;01mNone\u001b[39;00m:\n",
      "\u001b[0;31mNoForeignKeysError\u001b[0m: Could not determine join condition between parent/child tables on relationship Book.summary - there are no foreign keys linking these tables.  Ensure that referencing columns are associated with a ForeignKey or ForeignKeyConstraint, or specify a 'primaryjoin' expression."
     ]
    }
   ],
   "source": [
    "compute_score(24, 20, 1)"
   ]
  },
  {
   "cell_type": "code",
   "execution_count": null,
   "metadata": {},
   "outputs": [],
   "source": [
    "clusters = db.Cluster.all()"
   ]
  },
  {
   "cell_type": "code",
   "execution_count": null,
   "metadata": {},
   "outputs": [],
   "source": [
    "def compute_score(embedding1, embedding2):\n",
    "    return cosine_similarity(embedding1.array.reshape(1, -1), embedding2.array.reshape(1, -1))[0][0]"
   ]
  },
  {
   "cell_type": "code",
   "execution_count": null,
   "metadata": {},
   "outputs": [],
   "source": [
    "def get_candidates(books):\n",
    "    scores = []\n",
    "    for cluster in clusters:\n",
    "        score = 0\n",
    "        for book in books:\n",
    "            score += book[0] * compute_score(book[1], cluster.centroid)\n",
    "        scores.append((cluster, score))\n",
    "    return sorted(scores, key=lambda x: x[1], reverse=True)[0:10]"
   ]
  },
  {
   "cell_type": "code",
   "execution_count": null,
   "metadata": {},
   "outputs": [],
   "source": [
    "def get_recommendations(books):\n",
    "    candidates = get_candidates(books)\n",
    "    recommendations = []\n",
    "    for candidate in candidates:\n",
    "        score = 0\n",
    "        for book in books:\n",
    "            score += book[0] * compute_score(book[1], candidate)\n",
    "        recommendations.append((candidate, score))\n",
    "    return sorted(recommendations, key=lambda x: x[1], reverse=True)[0:5]"
   ]
  },
  {
   "cell_type": "code",
   "execution_count": null,
   "metadata": {},
   "outputs": [],
   "source": [
    "get_recommendations([\n",
    "    (1, 1),\n",
    "    (-1, 2),\n",
    "    (1, 3)\n",
    "])"
   ]
  }
 ],
 "metadata": {
  "kernelspec": {
   "display_name": "base",
   "language": "python",
   "name": "python3"
  },
  "language_info": {
   "codemirror_mode": {
    "name": "ipython",
    "version": 3
   },
   "file_extension": ".py",
   "mimetype": "text/x-python",
   "name": "python",
   "nbconvert_exporter": "python",
   "pygments_lexer": "ipython3",
   "version": "3.12.7"
  }
 },
 "nbformat": 4,
 "nbformat_minor": 2
}
